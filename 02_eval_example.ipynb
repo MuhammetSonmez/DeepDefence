{
 "cells": [
  {
   "cell_type": "code",
   "execution_count": 1,
   "metadata": {},
   "outputs": [],
   "source": [
    "import torch\n",
    "import torch.nn as nn\n",
    "\n",
    "\n",
    "class DeepGRUModel(nn.Module):\n",
    "    def __init__(self, vocab_size, embedding_dim):\n",
    "        super(DeepGRUModel, self).__init__()\n",
    "        self.embedding = nn.Embedding(vocab_size, embedding_dim, padding_idx=0)  \n",
    "        self.gru = nn.GRU(embedding_dim, 128, num_layers=3, batch_first=True, dropout=0.3, bidirectional=True)\n",
    "        self.fc1 = nn.Linear(128 * 2, 64) \n",
    "        self.relu = nn.ReLU()\n",
    "        self.fc2 = nn.Linear(64, 1)  \n",
    "\n",
    "        \n",
    "    def forward(self, x):\n",
    "        x = self.embedding(x)  \n",
    "        x, _ = self.gru(x)\n",
    "        x = torch.mean(x, dim=1)  \n",
    "        x = self.fc1(x)\n",
    "        x = self.relu(x)\n",
    "        x = self.fc2(x) \n",
    "        return x  "
   ]
  },
  {
   "cell_type": "code",
   "execution_count": 2,
   "metadata": {},
   "outputs": [],
   "source": [
    "model = DeepGRUModel(195, 128)"
   ]
  },
  {
   "cell_type": "code",
   "execution_count": 3,
   "metadata": {},
   "outputs": [
    {
     "data": {
      "text/plain": [
       "DeepGRUModel(\n",
       "  (embedding): Embedding(195, 128, padding_idx=0)\n",
       "  (gru): GRU(128, 128, num_layers=3, batch_first=True, dropout=0.3, bidirectional=True)\n",
       "  (fc1): Linear(in_features=256, out_features=64, bias=True)\n",
       "  (relu): ReLU()\n",
       "  (fc2): Linear(in_features=64, out_features=1, bias=True)\n",
       ")"
      ]
     },
     "execution_count": 3,
     "metadata": {},
     "output_type": "execute_result"
    }
   ],
   "source": [
    "model.load_state_dict(torch.load(\"model.pth\", weights_only=False))\n",
    "model.eval()\n",
    "\n"
   ]
  },
  {
   "cell_type": "code",
   "execution_count": 4,
   "metadata": {},
   "outputs": [],
   "source": [
    "import pandas as pd\n",
    "\n",
    "\n",
    "df = pd.read_csv(\"password_dataset.csv\")\n",
    "\n",
    "passwords = df[\"password\"].astype(str).tolist()\n",
    "y = df[\"is_meaningful\"].values\n",
    "\n",
    "unique_chars = sorted(set(\"\".join(passwords)))\n",
    "char_to_idx = {char: i + 1 for i, char in enumerate(unique_chars)}\n",
    "\n",
    "max_len = max(len(p) for p in passwords)\n",
    "\n",
    "\n",
    "def predict_password_strength(password, model, device=\"cpu\"):\n",
    "    encoded_pw = encode_password(password)\n",
    "    \n",
    "    input_tensor = encoded_pw.unsqueeze(0).to(device) \n",
    "    model.eval() \n",
    "    with torch.no_grad():\n",
    "        output = model(input_tensor).squeeze()  \n",
    "        prob = torch.sigmoid(output)  \n",
    "\n",
    "    return prob.item()  \n",
    "\n",
    "\n",
    "def encode_password(password):\n",
    "    encoded = [char_to_idx.get(char, 0) for char in password]\n",
    "    padded = encoded + [0] * (max_len - len(encoded))\n",
    "    return torch.tensor(padded[:max_len], dtype=torch.long)\n",
    "\n"
   ]
  },
  {
   "cell_type": "code",
   "execution_count": 5,
   "metadata": {},
   "outputs": [
    {
     "name": "stdout",
     "output_type": "stream",
     "text": [
      "Password '12345' meaningful probability: 1.0000\n",
      "Password 'testpassword' meaningful probability: 1.0000\n",
      "Password 'mysecret' meaningful probability: 1.0000\n",
      "Password '!=)21mkı213j=%' meaningful probability: 0.2387\n",
      "Password 'lolitsmeaningful' meaningful probability: 1.0000\n",
      "Password 'pojfkappascore12312_?_' meaningful probability: 1.0000\n",
      "Password '293ıp***1?240ıdaks?'test' meaningful probability: 0.9958\n",
      "Password 'güvenlişifre123' meaningful probability: 1.0000\n"
     ]
    }
   ],
   "source": [
    "\n",
    "passwords = [\"12345\", \"testpassword\", \"mysecret\", \"!=)21mkı213j=%\", \"lolitsmeaningful\", \"pojfkappascore12312_?_\", \"293ıp***1?240ıdaks?'test\", \"güvenlişifre123\"]\n",
    "\n",
    "for password in passwords:\n",
    "    probability = predict_password_strength(password, model)\n",
    "    print(f\"Password '{password}' meaningful probability: {probability:.4f}\")\n"
   ]
  }
 ],
 "metadata": {
  "kernelspec": {
   "display_name": "Python 3",
   "language": "python",
   "name": "python3"
  },
  "language_info": {
   "codemirror_mode": {
    "name": "ipython",
    "version": 3
   },
   "file_extension": ".py",
   "mimetype": "text/x-python",
   "name": "python",
   "nbconvert_exporter": "python",
   "pygments_lexer": "ipython3",
   "version": "3.10.6"
  }
 },
 "nbformat": 4,
 "nbformat_minor": 2
}
