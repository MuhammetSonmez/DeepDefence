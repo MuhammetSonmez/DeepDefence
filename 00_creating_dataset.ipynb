{
 "cells": [
  {
   "cell_type": "code",
   "execution_count": null,
   "metadata": {},
   "outputs": [
    {
     "name": "stderr",
     "output_type": "stream",
     "text": [
      "14343753it [01:13, 195289.80it/s]                              \n"
     ]
    }
   ],
   "source": [
    "import pandas as pd\n",
    "import random\n",
    "import string\n",
    "from tqdm import tqdm\n",
    " \n",
    "with open(\"rockyou.txt\", \"r\", encoding=\"latin-1\") as f:\n",
    "    passwords = set(line.strip() for line in f)  \n",
    "num_passwords = len(passwords)\n",
    "\n",
    "def generate_random_password(min_len=6, max_len=12):\n",
    "    length = random.randint(min_len, max_len)\n",
    "    chars = string.ascii_letters + string.digits + string.punctuation\n",
    "    return ''.join(random.choice(chars) for _ in range(length))\n",
    "\n",
    "random_passwords = set()\n",
    "with tqdm(total=num_passwords) as pbar:\n",
    "    while len(random_passwords) < num_passwords:\n",
    "        new_pass = generate_random_password()\n",
    "        if new_pass not in passwords: \n",
    "            random_passwords.add(new_pass)\n",
    "            pbar.update(1) \n",
    "\n",
    "\n",
    "df = pd.DataFrame({\"password\": list(passwords) + list(random_passwords), \n",
    "                   \"is_meaningful\": [1] * num_passwords + [0] * num_passwords})\n",
    "\n",
    "\n",
    "df.to_csv(\"password_dataset.csv\", index=False)\n"
   ]
  },
  {
   "cell_type": "code",
   "execution_count": 1,
   "metadata": {},
   "outputs": [],
   "source": [
    "import pandas as pd\n",
    "\n",
    "\n",
    "df = pd.read_csv('password_dataset.csv')\n",
    "df = df.sample(frac=1, random_state=42).reset_index(drop=True)\n",
    "\n",
    "df.to_csv(\"password_dataset.csv\", index=False)\n"
   ]
  }
 ],
 "metadata": {
  "kernelspec": {
   "display_name": "Python 3",
   "language": "python",
   "name": "python3"
  },
  "language_info": {
   "codemirror_mode": {
    "name": "ipython",
    "version": 3
   },
   "file_extension": ".py",
   "mimetype": "text/x-python",
   "name": "python",
   "nbconvert_exporter": "python",
   "pygments_lexer": "ipython3",
   "version": "3.10.6"
  }
 },
 "nbformat": 4,
 "nbformat_minor": 2
}
