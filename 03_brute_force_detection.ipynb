{
 "cells": [
  {
   "cell_type": "code",
   "execution_count": 1,
   "metadata": {},
   "outputs": [],
   "source": [
    "import torch\n",
    "import torch.nn as nn\n",
    "\n",
    "\n",
    "class DeepGRUModel(nn.Module):\n",
    "    def __init__(self, vocab_size:int, embedding_dim:int):\n",
    "        super(DeepGRUModel, self).__init__()\n",
    "        self.embedding = nn.Embedding(vocab_size, embedding_dim, padding_idx=0)  \n",
    "        self.gru = nn.GRU(embedding_dim, 128, num_layers=3, batch_first=True, dropout=0.3, bidirectional=True)\n",
    "        self.fc1 = nn.Linear(128 * 2, 64) \n",
    "        self.relu = nn.ReLU()\n",
    "        self.fc2 = nn.Linear(64, 1)  \n",
    "\n",
    "        \n",
    "    def forward(self, x):\n",
    "        x = self.embedding(x)  \n",
    "        x, _ = self.gru(x)\n",
    "        x = torch.mean(x, dim=1)  \n",
    "        x = self.fc1(x)\n",
    "        x = self.relu(x)\n",
    "        x = self.fc2(x) \n",
    "        return x  "
   ]
  },
  {
   "cell_type": "code",
   "execution_count": 2,
   "metadata": {},
   "outputs": [],
   "source": [
    "model = DeepGRUModel(195, 128)"
   ]
  },
  {
   "cell_type": "code",
   "execution_count": 3,
   "metadata": {},
   "outputs": [
    {
     "data": {
      "text/plain": [
       "DeepGRUModel(\n",
       "  (embedding): Embedding(195, 128, padding_idx=0)\n",
       "  (gru): GRU(128, 128, num_layers=3, batch_first=True, dropout=0.3, bidirectional=True)\n",
       "  (fc1): Linear(in_features=256, out_features=64, bias=True)\n",
       "  (relu): ReLU()\n",
       "  (fc2): Linear(in_features=64, out_features=1, bias=True)\n",
       ")"
      ]
     },
     "execution_count": 3,
     "metadata": {},
     "output_type": "execute_result"
    }
   ],
   "source": [
    "model.load_state_dict(torch.load(\"model.pth\", weights_only=False))\n",
    "model.eval()\n",
    "\n"
   ]
  },
  {
   "cell_type": "code",
   "execution_count": 4,
   "metadata": {},
   "outputs": [],
   "source": [
    "import pandas as pd\n",
    "import torch\n",
    "\n",
    "df = pd.read_csv(\"password_dataset.csv\")\n",
    "\n",
    "passwords = df[\"password\"].astype(str).tolist()\n",
    "y = df[\"is_meaningful\"].values\n",
    "\n",
    "unique_chars = sorted(set(\"\".join(passwords)))\n",
    "char_to_idx = {char: i + 1 for i, char in enumerate(unique_chars)}\n",
    "\n",
    "max_len = max(len(p) for p in passwords)\n",
    "\n",
    "\n",
    "def predict_password(password:str, device:str=\"cpu\") -> float:\n",
    "    encoded_pw = encode_password(password)\n",
    "    \n",
    "    input_tensor = encoded_pw.unsqueeze(0).to(device) \n",
    "    model.eval() \n",
    "    with torch.no_grad():\n",
    "        output = model(input_tensor).squeeze()  \n",
    "        prob = torch.sigmoid(output)  \n",
    "\n",
    "    return prob.item()  \n",
    "\n",
    "\n",
    "def encode_password(password:str) -> torch.Tensor:\n",
    "    encoded = [char_to_idx.get(char, 0) for char in password]\n",
    "    padded = encoded + [0] * (max_len - len(encoded))\n",
    "    return torch.tensor(padded[:max_len], dtype=torch.long)\n",
    "\n"
   ]
  },
  {
   "cell_type": "code",
   "execution_count": 5,
   "metadata": {},
   "outputs": [],
   "source": [
    "import time\n",
    "from collections import deque\n",
    "from sklearn.feature_extraction.text import TfidfVectorizer\n",
    "from sklearn.metrics.pairwise import cosine_similarity\n",
    "\n",
    "class BruteForceDetector:\n",
    "    def __init__(self, threshold=10, time_window=10, similarity_threshold=0.7, rate_limit=0.5, meaningful_threshold=0.5):\n",
    "        self.threshold = threshold\n",
    "        self.time_window = time_window  \n",
    "        self.similarity_threshold = similarity_threshold  \n",
    "        self.rate_limit = rate_limit\n",
    "        self.meaningful_threshold = meaningful_threshold\n",
    "        self.attempts = deque()\n",
    "        self.vectorizer = TfidfVectorizer(analyzer=\"char\", ngram_range=(2, 3))\n",
    "\n",
    "    def detect(self, password, device=\"cpu\"):\n",
    "        current_time = time.time()\n",
    "        self.clean_old_attempts(current_time)\n",
    "        \n",
    "        if self.is_too_fast():\n",
    "            print(\"[ALERT] Rapid brute-force attack detected! Requests are too frequent.\")\n",
    "            return True\n",
    "        \n",
    "        if self.is_similar_attempt(password):\n",
    "            return False  \n",
    "        \n",
    "        meaningful_score = predict_password(password, device)\n",
    "        if meaningful_score < self.meaningful_threshold:\n",
    "            print(f\"[WARNING] Low meaningful score ({meaningful_score:.2f}) detected for password: {password}\")\n",
    "\n",
    "            if self.is_too_fast():\n",
    "                print(\"[ALERT] Brute-force attack detected due to meaningless and rapid attempts!\")\n",
    "                return True\n",
    "            \n",
    "            if len(self.attempts) >= self.threshold:\n",
    "                print(\"[ALERT] Brute-force attack detected due to excessive meaningless attempts!\")\n",
    "                return True\n",
    "        \n",
    "        self.attempts.append((current_time, password))\n",
    "\n",
    "        if len(self.attempts) >= self.threshold:\n",
    "            print(\"[ALERT] Brute-force attack detected! Total attempts:\", len(self.attempts))\n",
    "            return True\n",
    "        \n",
    "        return False\n",
    "    \n",
    "    def clean_old_attempts(self, current_time):\n",
    "        while self.attempts and self.attempts[0][0] < current_time - self.time_window:\n",
    "            self.attempts.popleft()\n",
    "    \n",
    "    def is_similar_attempt(self, new_password):\n",
    "        passwords = [p for _, p in self.attempts]\n",
    "        if not passwords:\n",
    "            return False\n",
    "        \n",
    "        vectors = self.vectorizer.fit_transform(passwords + [new_password])\n",
    "        similarity_matrix = cosine_similarity(vectors)\n",
    "        similarities = similarity_matrix[-1][:-1]  \n",
    "        \n",
    "        return any(sim >= self.similarity_threshold for sim in similarities)\n",
    "    \n",
    "    def is_too_fast(self):\n",
    "        if len(self.attempts) < 3:\n",
    "            return False\n",
    "        \n",
    "        timestamps = [t for t, _ in self.attempts][-3:] \n",
    "        avg_interval = sum(timestamps[i] - timestamps[i-1] for i in range(1, len(timestamps))) / (len(timestamps) - 1)\n",
    "\n",
    "        return avg_interval < self.rate_limit\n"
   ]
  },
  {
   "cell_type": "markdown",
   "metadata": {},
   "source": [
    "# Case 1: Real Brute Force Attack\n",
    "Here, an attacker tries 20 completely different passwords in a short period."
   ]
  },
  {
   "cell_type": "code",
   "execution_count": 6,
   "metadata": {},
   "outputs": [
    {
     "name": "stdout",
     "output_type": "stream",
     "text": [
      "[ALERT] Brute-force attack detected! Total attempts: 10\n"
     ]
    }
   ],
   "source": [
    "import time\n",
    "\n",
    "brute_force_detector = BruteForceDetector()\n",
    "\n",
    "brute_force_attempts = [\n",
    "    \"password123\", \"letmein\", \"qwerty\", \"trustno1\", \"sunshine\",\n",
    "    \"iloveyou\", \"admin123\", \"football\", \"welcome\", \"dragon\",\n",
    "    \"123456789\", \"superman\", \"shadow\", \"baseball\", \"michael\",\n",
    "    \"ninja\", \"princess\", \"starwars\", \"harley\", \"batman\"\n",
    "]\n",
    "\n",
    "for pwd in brute_force_attempts:\n",
    "    if brute_force_detector.detect(pwd):\n",
    "        break\n",
    "    time.sleep(1)\n"
   ]
  },
  {
   "cell_type": "markdown",
   "metadata": {},
   "source": [
    "# Case 2: Random Nonsense Passwords\n",
    "Attacker is trying random passwords too fast."
   ]
  },
  {
   "cell_type": "code",
   "execution_count": 7,
   "metadata": {},
   "outputs": [
    {
     "name": "stdout",
     "output_type": "stream",
     "text": [
      "[WARNING] Low meaningful score (0.27) detected for password: ajf?38r2n!\n",
      "[WARNING] Low meaningful score (0.02) detected for password: x92#u@q\n",
      "[WARNING] Low meaningful score (0.22) detected for password: 8*skldja\n",
      "[ALERT] Rapid brute-force attack detected! Requests are too frequent.\n"
     ]
    }
   ],
   "source": [
    "brute_force_detector = BruteForceDetector()\n",
    "\n",
    "random_attempts = [\n",
    "    \"ajf?38r2n!\", \"x92#u@q\", \"8*skldja\", \"&-h#q9t3m\", \"!@*!'4d1-2\",\n",
    "    \"j2js@!1kl\", \"?'*49wsad\", \"!?'0*asv'\", \"8?8q4l2m1\", \"%&19skd\",\n",
    "    \"x&y!9z2@\", \"7a8?0_b9c#1\", \"m$%n#r^t\", \"a?!^2cd!@#$\", \"z*09c3v\",\n",
    "    \"kdl*-w!@?!\", \"m,n.'b!vcxz!\", \"q'!dı$2?\", \"lkjh=gf*-dsa!\", \"qz*ws2xe'!dc\"\n",
    "]\n",
    "\n",
    "\n",
    "for pwd in random_attempts:\n",
    "    if brute_force_detector.detect(pwd):\n",
    "        break\n"
   ]
  },
  {
   "cell_type": "markdown",
   "metadata": {},
   "source": [
    "# Case 3: Mixed Brute Force Attack\n",
    "Here, the attacker tries both similar and different passwords."
   ]
  },
  {
   "cell_type": "code",
   "execution_count": 8,
   "metadata": {},
   "outputs": [
    {
     "name": "stdout",
     "output_type": "stream",
     "text": [
      "[ALERT] Brute-force attack detected! Total attempts: 10\n"
     ]
    }
   ],
   "source": [
    "import time\n",
    "\n",
    "brute_force_detector = BruteForceDetector()\n",
    "mixed_attempts = [\n",
    "    \"password123\", \"password124\", \"adminpass\", \"qwerty12\",\n",
    "    \"welcome!\", \"football123\", \"iloveyou\", \"superadmin\",\n",
    "    \"hacked123\", \"mypassword\", \"dragon123\", \"trustno2\",\n",
    "    \"letmein1\", \"baseball99\", \"shadow12\", \"sunshine777\",\n",
    "    \"harley21\", \"michael456\", \"starwarsX\", \"batman2000\"\n",
    "]\n",
    "\n",
    "for pwd in mixed_attempts:\n",
    "    if brute_force_detector.detect(pwd):\n",
    "        break\n",
    "    time.sleep(1)\n"
   ]
  },
  {
   "cell_type": "markdown",
   "metadata": {},
   "source": [
    "# Case 4: Forgotten Password Scenario\n",
    "A user forgets their password and tries small variations of it.\n"
   ]
  },
  {
   "cell_type": "code",
   "execution_count": 9,
   "metadata": {},
   "outputs": [],
   "source": [
    "import time\n",
    "\n",
    "brute_force_detector = BruteForceDetector()\n",
    "similar_passwords = [\n",
    "    \"password123\", \"password124\", \"password125\", \"password126\",\n",
    "    \"password127\", \"password128\", \"password129\", \"password130\",\n",
    "    \"password131\", \"password132\", \"password133\", \"password134\",\n",
    "    \"password135\", \"password136\", \"password137\", \"password138\",\n",
    "    \"password139\", \"password140\", \"password141\", \"password142\"\n",
    "]\n",
    "\n",
    "\n",
    "for pwd in similar_passwords:\n",
    "    if brute_force_detector.detect(pwd):\n",
    "        break\n",
    "    time.sleep(1)\n"
   ]
  }
 ],
 "metadata": {
  "kernelspec": {
   "display_name": "Python 3",
   "language": "python",
   "name": "python3"
  },
  "language_info": {
   "codemirror_mode": {
    "name": "ipython",
    "version": 3
   },
   "file_extension": ".py",
   "mimetype": "text/x-python",
   "name": "python",
   "nbconvert_exporter": "python",
   "pygments_lexer": "ipython3",
   "version": "3.10.6"
  }
 },
 "nbformat": 4,
 "nbformat_minor": 2
}
